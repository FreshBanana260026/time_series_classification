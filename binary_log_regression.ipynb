{
 "cells": [
  {
   "cell_type": "code",
   "execution_count": 27,
   "metadata": {
    "collapsed": true
   },
   "outputs": [],
   "source": [
    "# here we take the data as it is and try a binary logistic regression with data from one person -> results are pretty good 80% accuracy on test set, then we tried on 3 different labels to see how the logistic regression holds up, probably not well\n",
    "import numpy as np\n",
    "import pandas as pd\n",
    "from matplotlib import pyplot as plt\n",
    "from sklearn import linear_model\n",
    "import seaborn as sns\n",
    "import torch\n",
    "\n",
    "import pyro\n",
    "import pyro.distributions as dist\n",
    "from pyro.contrib.autoguide import AutoDiagonalNormal, AutoMultivariateNormal\n",
    "from pyro.infer import MCMC, NUTS, HMC, SVI, Trace_ELBO\n",
    "from pyro.optim import Adam, ClippedAdam\n",
    "import itertools\n",
    "from sklearn.metrics import confusion_matrix, ConfusionMatrixDisplay\n",
    "\n",
    "# fix random generator seed (for reproducibility of results)\n",
    "np.random.seed(42)"
   ]
  },
  {
   "cell_type": "code",
   "execution_count": 28,
   "metadata": {},
   "outputs": [
    {
     "data": {
      "image/png": "[encoded data removed]",
      "text/plain": [
       "<Figure size 432x288 with 1 Axes>"
      ]
     },
     "metadata": {},
     "output_type": "display_data"
    },
    {
     "name": "stdout",
     "output_type": "stream",
     "text": [
      "       user  activity        timestamp  x-axis  y-axis  z-axis\n",
      "53503     3         1  100832351478000    2.87   18.81   -0.89\n",
      "53504     3         1  100832391547000   -0.38    8.24   -1.27\n",
      "53505     3         1  100832431556000    1.33    7.16   -1.95\n",
      "53506     3         1  100832471839000    4.06    9.66   -1.84\n",
      "53507     3         1  100832551551000    1.69    6.55   -0.11\n",
      "[[ 3.00000000e+00  1.00000000e+00  1.00832351e+14  2.87000000e+00\n",
      "   1.88100000e+01 -8.90000000e-01]\n",
      " [ 3.00000000e+00  1.00000000e+00  1.00832392e+14 -3.80000000e-01\n",
      "   8.24000000e+00 -1.27000000e+00]\n",
      " [ 3.00000000e+00  1.00000000e+00  1.00832432e+14  1.33000000e+00\n",
      "   7.16000000e+00 -1.95000000e+00]\n",
      " ...\n",
      " [ 3.00000000e+00  0.00000000e+00  1.02290261e+14  3.53000000e+00\n",
      "   1.05700000e+01  1.80000000e+00]\n",
      " [ 3.00000000e+00  0.00000000e+00  1.02290341e+14  6.97000000e+00\n",
      "   7.59000000e+00  9.50000000e-01]\n",
      " [ 3.00000000e+00  0.00000000e+00  1.02290381e+14  7.86000000e+00\n",
      "   6.05000000e+00  9.50000000e-01]]\n",
      "(23988, 3) (23988,)\n"
     ]
    },
    {
     "name": "stderr",
     "output_type": "stream",
     "text": [
      "C:\\Users\\Florin Mazilu\\AppData\\Local\\Temp\\ipykernel_20556\\1434642871.py:13: SettingWithCopyWarning: \n",
      "A value is trying to be set on a copy of a slice from a DataFrame.\n",
      "Try using .loc[row_indexer,col_indexer] = value instead\n",
      "\n",
      "See the caveats in the documentation: https://pandas.pydata.org/pandas-docs/stable/user_guide/indexing.html#returning-a-view-versus-a-copy\n",
      "  new_df['activity'] = new_df['activity'].map(activity_map)\n"
     ]
    }
   ],
   "source": [
    "df = pd.read_csv('time_series_data_human_activities.csv')\n",
    "activity_map = {'Jogging': 0, 'Walking': 1}\n",
    "\n",
    "# select only one person and two activities i.e. Standing and walking\n",
    "new_df = df[(df['user']==3) & ((df['activity']=='Jogging') | (df['activity']=='Walking'))]\n",
    "new_df['activity'].hist()\n",
    "plt.show()\n",
    "# one-hot encoding\n",
    "# one_hot = pd.get_dummies(new_df['activity'])\n",
    "# new_df = new_df.drop('activity', axis=1)\n",
    "# new_df = pd.concat([new_df, one_hot], axis=1)\n",
    "\n",
    "new_df['activity'] = new_df['activity'].map(activity_map)\n",
    "\n",
    "print(new_df.head())\n",
    "\n",
    "values = new_df.to_numpy()\n",
    "print(values)\n",
    "\n",
    "X = values[:, -3:]\n",
    "y = values[:, 1].astype(\"int\")\n",
    "print(X.shape, y.shape)"
   ]
  },
  {
   "cell_type": "code",
   "execution_count": 29,
   "metadata": {},
   "outputs": [],
   "source": [
    "# standardize input features\n",
    "X_mean = X.mean(axis=0)\n",
    "X_std = X.std(axis=0)\n",
    "X = (X - X_mean) / X_std"
   ]
  },
  {
   "cell_type": "code",
   "execution_count": 30,
   "metadata": {},
   "outputs": [
    {
     "name": "stdout",
     "output_type": "stream",
     "text": [
      "num train: 16791\n",
      "num test: 7197\n"
     ]
    }
   ],
   "source": [
    "train_perc = 0.7 # percentage of training data\n",
    "split_point = int(train_perc*len(y))\n",
    "perm = np.random.permutation(len(y)) # we also randomize the dataset\n",
    "ix_train = perm[:split_point]\n",
    "ix_test = perm[split_point:]\n",
    "X_train = X[ix_train,:]\n",
    "X_test = X[ix_test,:]\n",
    "y_train = y[ix_train]\n",
    "y_test = y[ix_test]\n",
    "print(\"num train: %d\" % len(y_train))\n",
    "print(\"num test: %d\" % len(y_test))"
   ]
  },
  {
   "cell_type": "code",
   "execution_count": 31,
   "metadata": {},
   "outputs": [],
   "source": [
    "# logistic regression model\n",
    "def model(X, obs=None):\n",
    "    alpha = pyro.sample('alpha', pyro.distributions.Normal(0., 1.))\n",
    "    beta = pyro.sample('beta', pyro.distributions.Normal(torch.zeros(X.shape[1]), torch.ones(X.shape[1])).to_event(1))\n",
    "    with pyro.plate('data'):\n",
    "        y = pyro.sample(\"y\", pyro.distributions.Bernoulli(probs=torch.sigmoid(alpha + beta.T@X.T)), obs=obs)\n",
    "    return y"
   ]
  },
  {
   "cell_type": "code",
   "execution_count": 32,
   "metadata": {},
   "outputs": [
    {
     "name": "stdout",
     "output_type": "stream",
     "text": [
      "torch.Size([16791])\n"
     ]
    }
   ],
   "source": [
    "n_cat = 2\n",
    "# Prepare data for Pyro\n",
    "X_train = torch.tensor(X_train).float()\n",
    "y_train = torch.tensor(y_train).float()\n",
    "print(y_train.shape)"
   ]
  },
  {
   "cell_type": "code",
   "execution_count": 33,
   "metadata": {},
   "outputs": [
    {
     "name": "stdout",
     "output_type": "stream",
     "text": [
      "[0] ELBO: 12022.0\n",
      "[1000] ELBO: 8595.1\n",
      "[2000] ELBO: 8517.6\n",
      "[3000] ELBO: 8514.0\n",
      "[4000] ELBO: 8514.2\n",
      "[5000] ELBO: 8515.7\n",
      "[6000] ELBO: 8514.8\n",
      "[7000] ELBO: 8515.7\n",
      "[8000] ELBO: 8515.2\n",
      "[9000] ELBO: 8515.0\n",
      "[10000] ELBO: 8515.3\n",
      "[11000] ELBO: 8515.3\n",
      "[12000] ELBO: 8515.1\n",
      "[13000] ELBO: 8515.0\n",
      "[14000] ELBO: 8515.3\n",
      "[15000] ELBO: 8514.9\n",
      "[16000] ELBO: 8515.1\n",
      "[17000] ELBO: 8514.9\n",
      "[18000] ELBO: 8515.1\n",
      "[19000] ELBO: 8515.3\n",
      "[20000] ELBO: 8515.1\n",
      "[21000] ELBO: 8515.0\n",
      "[22000] ELBO: 8514.9\n",
      "[23000] ELBO: 8515.3\n",
      "[24000] ELBO: 8515.7\n",
      "[25000] ELBO: 8515.8\n",
      "[26000] ELBO: 8514.8\n",
      "[27000] ELBO: 8515.0\n",
      "[28000] ELBO: 8514.8\n",
      "[29000] ELBO: 8515.2\n"
     ]
    }
   ],
   "source": [
    "# Define guide function\n",
    "guide = AutoMultivariateNormal(model)\n",
    "\n",
    "# Reset parameter values\n",
    "pyro.clear_param_store()\n",
    "\n",
    "# Define the number of optimization steps\n",
    "n_steps = 30000\n",
    "\n",
    "# Setup the optimizer\n",
    "adam_params = {\"lr\": 0.001}\n",
    "optimizer = ClippedAdam(adam_params)\n",
    "\n",
    "# Setup the inference algorithm\n",
    "elbo = Trace_ELBO(num_particles=1)\n",
    "svi = SVI(model, guide, optimizer, loss=elbo)\n",
    "\n",
    "# Do gradient steps\n",
    "for step in range(n_steps):\n",
    "    elbo = svi.step(X_train, y_train)\n",
    "    if step % 1000 == 0:\n",
    "        print(\"[%d] ELBO: %.1f\" % (step, elbo))"
   ]
  },
  {
   "cell_type": "code",
   "execution_count": 34,
   "metadata": {},
   "outputs": [],
   "source": [
    "from pyro.infer import Predictive\n",
    "\n",
    "predictive = Predictive(model, guide=guide, num_samples=2000,\n",
    "                        return_sites=(\"alpha\", \"beta\"))\n",
    "samples = predictive(X_train, y_train)"
   ]
  },
  {
   "cell_type": "code",
   "execution_count": 35,
   "metadata": {},
   "outputs": [
    {
     "name": "stdout",
     "output_type": "stream",
     "text": [
      "Accuracy: 0.7500347366958455\n"
     ]
    }
   ],
   "source": [
    "alpha_hat = samples[\"alpha\"].detach().mean(axis=0).numpy()\n",
    "beta_hat = samples[\"beta\"].detach().squeeze().mean(axis=0).numpy()\n",
    "\n",
    "# make predictions for test set\n",
    "y_hat = alpha_hat + np.dot(X_test, beta_hat)\n",
    "y_hat = (y_hat > 0).astype(int)\n",
    "\n",
    "# evaluate prediction accuracy\n",
    "print(\"Accuracy:\", 1.0*np.sum(y_hat == y_test) / len(y_test))\n",
    "\n",
    "# Results are pretty good, but the activities are quite different, if we had jogging and walking the results would not have been this good. Sitting and walking: 99% acc, Jogging and walking: 75.1% acc"
   ]
  },
  {
   "cell_type": "code",
   "execution_count": 36,
   "metadata": {},
   "outputs": [
    {
     "data": {
      "image/png": "[encoded data removed]",
      "text/plain": [
       "<Figure size 432x432 with 2 Axes>"
      ]
     },
     "metadata": {},
     "output_type": "display_data"
    }
   ],
   "source": [
    "#this section plots confusion matrix and prints testing accuracy\n",
    "fig, ax = plt.subplots(figsize=(6,6))\n",
    "ax.grid(False)\n",
    "ls = ['Jogging', 'Walking']\n",
    "cm = confusion_matrix(y_test, y_hat, labels=[0, 1])\n",
    "disp = ConfusionMatrixDisplay(cm, display_labels=ls).plot(ax=ax)\n",
    "# disp = disp.plot(cmap=plt.cm.Blues)\n",
    "# plt.show()"
   ]
  }
 ],
 "metadata": {
  "kernelspec": {
   "display_name": "Python 3 (ipykernel)",
   "language": "python",
   "name": "python3"
  },
  "language_info": {
   "codemirror_mode": {
    "name": "ipython",
    "version": 3
   },
   "file_extension": ".py",
   "mimetype": "text/x-python",
   "name": "python",
   "nbconvert_exporter": "python",
   "pygments_lexer": "ipython3",
   "version": "3.9.12"
  }
 },
 "nbformat": 4,
 "nbformat_minor": 1
}
